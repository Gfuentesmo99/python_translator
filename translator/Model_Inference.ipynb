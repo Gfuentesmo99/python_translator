{
 "cells": [
  {
   "cell_type": "code",
   "execution_count": 32,
   "metadata": {},
   "outputs": [
    {
     "name": "stdout",
     "output_type": "stream",
     "text": [
      "Español- Numero de palabras:  4050 \t Frase mas larga:  102\n",
      "Ingles - Numero de palabras:  4841 \t Frase mas larga:  105\n"
     ]
    }
   ],
   "source": [
    "\n",
    "%run utils.ipynb\n",
    "#Leemos el dataset reducido\n",
    "es_train, es_train, es_test, en_test,es_texts,en_texts = init_data()\n",
    "\n",
    "\n",
    "#Ahora vamos a tokenizar los diferentes datasets para ello usaremos Keras y su Tokenizer\n",
    "es_tok,en_tok,es_len,en_len,es_vocab,en_vocab = init_tokens(en_texts,es_texts)\n",
    "\n",
    "print(\"Español- Numero de palabras: \", es_vocab, \"\\t Frase mas larga: \", es_len)\n",
    "print(\"Ingles - Numero de palabras: \", en_vocab, \"\\t Frase mas larga: \", en_len)\n",
    "\n",
    "#Dividimos el dataset en entrenamiento y prueba\n",
    "es_train, es_test, en_train, en_test = split_dataset(es_texts,en_texts)\n",
    "\n"
   ]
  },
  {
   "cell_type": "code",
   "execution_count": 33,
   "metadata": {},
   "outputs": [
    {
     "name": "stdout",
     "output_type": "stream",
     "text": [
      "Model: \"model_12\"\n",
      "__________________________________________________________________________________________________\n",
      "Layer (type)                    Output Shape         Param #     Connected to                     \n",
      "==================================================================================================\n",
      "input_24 (InputLayer)           [(None, 102, 4050)]  0                                            \n",
      "__________________________________________________________________________________________________\n",
      "input_25 (InputLayer)           [(None, 104, 4841)]  0                                            \n",
      "__________________________________________________________________________________________________\n",
      "gru_17 (GRU)                    [(None, 128), (None, 1605120     input_24[0][0]                   \n",
      "__________________________________________________________________________________________________\n",
      "gru_18 (GRU)                    (None, 104, 128)     1908864     input_25[0][0]                   \n",
      "                                                                 gru_17[0][1]                     \n",
      "__________________________________________________________________________________________________\n",
      "time_distributed_4 (TimeDistrib (None, 104, 4841)    624489      gru_18[0][0]                     \n",
      "==================================================================================================\n",
      "Total params: 4,138,473\n",
      "Trainable params: 4,138,473\n",
      "Non-trainable params: 0\n",
      "__________________________________________________________________________________________________\n"
     ]
    }
   ],
   "source": [
    "%run utils.ipynb\n",
    "from tensorflow.keras.models import Model\n",
    "\n",
    "model = create_model_inference_train(es_len,en_len,es_vocab,en_vocab)\n",
    "model.compile(optimizer=\"adam\", loss=\"categorical_crossentropy\", metrics=[\"acc\"])\n",
    "model.summary()\n"
   ]
  },
  {
   "cell_type": "code",
   "execution_count": 34,
   "metadata": {},
   "outputs": [
    {
     "name": "stdout",
     "output_type": "stream",
     "text": [
      "Epoch 1/5\n",
      "7/7 [==============================] - 72s 8s/step - loss: 8.4663 - acc: 0.4247 - val_loss: 8.3848 - val_acc: 0.9837\n",
      "Epoch 2/5\n",
      "7/7 [==============================] - 65s 9s/step - loss: 8.3378 - acc: 0.9640 - val_loss: 8.0294 - val_acc: 0.8004\n",
      "Epoch 3/5\n",
      "7/7 [==============================] - 65s 9s/step - loss: 7.5181 - acc: 0.7983 - val_loss: 4.5889 - val_acc: 0.7825\n",
      "Epoch 4/5\n",
      "7/7 [==============================] - 55s 8s/step - loss: 3.8621 - acc: 0.7845 - val_loss: 1.9586 - val_acc: 0.7731\n",
      "Epoch 5/5\n",
      "7/7 [==============================] - 48s 7s/step - loss: 1.6167 - acc: 0.7754 - val_loss: 0.8729 - val_acc: 0.7731\n"
     ]
    }
   ],
   "source": [
    "%run utils.ipynb\n",
    "\n",
    "#Procesaremos las frases para nuestro modelo que tendra 2 \"inputs\" y un \"output\".\n",
    "#Las entradas son: El one hot vector de las palabras en español y el onehot vector en ingles menos la ultima palabra\n",
    "#La salida es el one hot vector en ingles menos la primera palabra\n",
    "\n",
    "train_inference_model()"
   ]
  },
  {
   "cell_type": "code",
   "execution_count": null,
   "metadata": {},
   "outputs": [],
   "source": []
  },
  {
   "cell_type": "code",
   "execution_count": null,
   "metadata": {},
   "outputs": [],
   "source": []
  },
  {
   "cell_type": "code",
   "execution_count": null,
   "metadata": {},
   "outputs": [],
   "source": []
  }
 ],
 "metadata": {
  "kernelspec": {
   "display_name": "Python 3",
   "language": "python",
   "name": "python3"
  },
  "language_info": {
   "codemirror_mode": {
    "name": "ipython",
    "version": 3
   },
   "file_extension": ".py",
   "mimetype": "text/x-python",
   "name": "python",
   "nbconvert_exporter": "python",
   "pygments_lexer": "ipython3",
   "version": "3.8.5"
  }
 },
 "nbformat": 4,
 "nbformat_minor": 4
}
